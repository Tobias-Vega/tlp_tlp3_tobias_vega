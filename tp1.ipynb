{
 "cells": [
  {
   "cell_type": "markdown",
   "metadata": {},
   "source": [
    "# Criterios de evaluación.\n",
    "\n",
    "* Se deben utilizar nombres de variables descriptivos y claros (Utilizar la nomeclatura correspondiente para los nombres de variables).\n",
    "* Comentarios claros y concisos que expliquen el propósito de cada sección del código.\n",
    "* Entrega en tiempo y forma.\n",
    "* Todo el código desarrollado debe ser subido a un repositorio en GitHub (el nombre del repositorio de seguir la siguiente estructura: tp1_tlp3_nombre_apellido).\n",
    "\n",
    "\n",
    "**Aclaración: Para resolver las actividades se debe incertar casillas de codigo entre cada actividad del cuaderno de Jupyter**"
   ]
  },
  {
   "cell_type": "markdown",
   "metadata": {},
   "source": [
    "### 1. **Hola Mundo y Variables**\n",
    "\n",
    "   - **Actividad 1.1**: Deben escribir un programa que imprima \"¡Hola, Mundo!\" en la consola.\n",
    "   - **Actividad 1.2**: Deben crear una variable llamada `nombre` y hacer que el programa imprima un saludo personalizado: `Hola, <nombre>!`"
   ]
  },
  {
   "cell_type": "code",
   "execution_count": null,
   "metadata": {},
   "outputs": [
    {
     "name": "stdout",
     "output_type": "stream",
     "text": [
      "¡Hola mundo!\n"
     ]
    }
   ],
   "source": [
    "print(\"¡Hola mundo!\")"
   ]
  },
  {
   "cell_type": "code",
   "execution_count": 3,
   "metadata": {},
   "outputs": [
    {
     "name": "stdout",
     "output_type": "stream",
     "text": [
      "Hola Luis\n"
     ]
    }
   ],
   "source": [
    "nombre = \"Luis\"\n",
    "print (f\"Hola {nombre}\")"
   ]
  },
  {
   "cell_type": "markdown",
   "metadata": {},
   "source": [
    "### 2. **Operaciones Matemáticas Básicas**\n",
    "\n",
    "   - **Actividad 1.1**: Crear un programa que pida al usuario dos números y realice las cuatro operaciones matemáticas básicas (suma, resta, multiplicación y división), imprimiendo los resultados.\n",
    "   - **Actividad 1.2**: Hacer que el programa calcule el promedio de los dos números."
   ]
  },
  {
   "cell_type": "code",
   "execution_count": null,
   "metadata": {},
   "outputs": [
    {
     "name": "stdout",
     "output_type": "stream",
     "text": [
      "12.0\n",
      "-4.0\n",
      "32.0\n",
      "0.5\n"
     ]
    }
   ],
   "source": [
    "\n",
    "num1 = float(input(\"Ingrese el primer número\"))\n",
    "num2 = float(input(\"Ingrese el segundo número\"))\n",
    "\n",
    "suma = num1 + num2\n",
    "resta = num1 - num2\n",
    "multiplicacion = num1 * num2\n",
    "division = num1 / num2\n",
    "\n",
    "print(suma)\n",
    "print(resta)\n",
    "print(multiplicacion)\n",
    "print(division)"
   ]
  },
  {
   "cell_type": "code",
   "execution_count": 10,
   "metadata": {},
   "outputs": [
    {
     "name": "stdout",
     "output_type": "stream",
     "text": [
      "6.0\n"
     ]
    }
   ],
   "source": [
    "promedio = suma / 2\n",
    "print(promedio)"
   ]
  },
  {
   "cell_type": "markdown",
   "metadata": {},
   "source": [
    "### 3. **Condicionales (if-else)**\n",
    "\n",
    "   - **Actividad 1.1**: Escribir un programa que pida al usuario su edad y le diga si es mayor de edad (18 años o más).\n",
    "   - **Actividad 1.2**: Agregar un mensaje diferente para diferentes rangos de edad, como por ejemplo, si es un niño, adolescente o adulto."
   ]
  },
  {
   "cell_type": "code",
   "execution_count": 16,
   "metadata": {},
   "outputs": [
    {
     "name": "stdout",
     "output_type": "stream",
     "text": [
      "Usted es menor de edad\n"
     ]
    }
   ],
   "source": [
    "edad_usuario = int(input(\"Ingrese su edad\"))\n",
    "\n",
    "if edad_usuario >= 18:\n",
    "  print(\"Usted es mayor de edad\")\n",
    "else: \n",
    "  print(\"Usted es menor de edad\")\n"
   ]
  },
  {
   "cell_type": "code",
   "execution_count": 17,
   "metadata": {},
   "outputs": [
    {
     "name": "stdout",
     "output_type": "stream",
     "text": [
      "Usted es un adolescente\n"
     ]
    }
   ],
   "source": [
    "if edad_usuario >= 18:\n",
    "  print(\"Usted es un adulto\")\n",
    "elif edad_usuario >= 13:\n",
    "  print(\"Usted es un adolescente\")\n",
    "else:\n",
    "  print(\"Usted es un niño\")"
   ]
  },
  {
   "cell_type": "markdown",
   "metadata": {},
   "source": [
    "### 4. **Ciclos (while, for)**\n",
    "\n",
    "   - **Actividad 1.1**: Escribir un programa que imprima los números del 1 al 10 usando un bucle `for`.\n",
    "   - **Actividad 1.2**: Usar un bucle `while` para imprimir los números del 1 al 10, e imprimir solo aquellos números que sean divisibles por 2."
   ]
  },
  {
   "cell_type": "code",
   "execution_count": null,
   "metadata": {},
   "outputs": [],
   "source": [
    "\n",
    "for i in range(1, 11):\n",
    "  print(i)"
   ]
  },
  {
   "cell_type": "code",
   "execution_count": 25,
   "metadata": {},
   "outputs": [
    {
     "name": "stdout",
     "output_type": "stream",
     "text": [
      "2\n",
      "4\n",
      "6\n",
      "8\n",
      "10\n"
     ]
    }
   ],
   "source": [
    "contador = 0\n",
    "\n",
    "while contador <= 10:\n",
    "  contador += 1\n",
    "  if contador % 2 == 0:\n",
    "    print(contador)\n",
    "  else: \n",
    "    continue\n"
   ]
  },
  {
   "cell_type": "markdown",
   "metadata": {},
   "source": [
    "### 5. **Listas y Bucles**\n",
    "\n",
    "   - **Actividad 1.1**: Crear una lista con 5 números y escribir un programa que imprima cada número de la lista usando un bucle `for`.\n",
    "   - **Actividad 1.2**: Usar un bucle para calcular la suma de los números de la lista."
   ]
  },
  {
   "cell_type": "code",
   "execution_count": 28,
   "metadata": {},
   "outputs": [
    {
     "name": "stdout",
     "output_type": "stream",
     "text": [
      "2\n",
      "4\n",
      "6\n",
      "8\n",
      "10\n"
     ]
    }
   ],
   "source": [
    "numeros_pares = [2, 4, 6, 8, 10]\n",
    "\n",
    "for numero in numeros_pares: \n",
    "  print(numero)"
   ]
  },
  {
   "cell_type": "code",
   "execution_count": 32,
   "metadata": {},
   "outputs": [
    {
     "name": "stdout",
     "output_type": "stream",
     "text": [
      "30\n"
     ]
    }
   ],
   "source": [
    "suma_numeros = 0\n",
    "for numero in numeros_pares:\n",
    "  suma_numeros += numero\n",
    "\n",
    "print(suma_numeros)"
   ]
  },
  {
   "cell_type": "markdown",
   "metadata": {},
   "source": [
    "### 6. **Funciones**\n",
    "\n",
    "   - **Actividad 1.1**: Escribir una función llamada `saludo` que reciba un nombre como parámetro y devuelva un saludo personalizado.\n",
    "   - **Actividad 1.2**: Crear una función que reciba dos números y devuelva su suma, resta, multiplicación y división."
   ]
  },
  {
   "cell_type": "code",
   "execution_count": 34,
   "metadata": {},
   "outputs": [
    {
     "data": {
      "text/plain": [
       "'Hola José'"
      ]
     },
     "execution_count": 34,
     "metadata": {},
     "output_type": "execute_result"
    }
   ],
   "source": [
    "\n",
    "def saludar(nombre): \n",
    "  return f\"Hola {nombre}\"\n",
    "\n",
    "saludar(\"José\")"
   ]
  },
  {
   "cell_type": "code",
   "execution_count": 35,
   "metadata": {},
   "outputs": [
    {
     "name": "stdout",
     "output_type": "stream",
     "text": [
      "10\n",
      "2\n",
      "24\n",
      "1.5\n"
     ]
    }
   ],
   "source": [
    "def calcular(valor1, valor2):\n",
    "  print(valor1 + valor2)\n",
    "  print(valor1 - valor2)\n",
    "  print(valor1 * valor2)\n",
    "  print(valor1 / valor2)\n",
    "\n",
    "calcular(6,4)"
   ]
  },
  {
   "cell_type": "markdown",
   "metadata": {},
   "source": [
    "### 7. **Manejo de cadenas de texto**\n",
    "\n",
    "   - **Actividad 1.1**: Escribir un programa que pida al usuario su nombre y lo imprima en mayúsculas y en minúsculas.\n",
    "   - **Actividad 1.2**: Hacer que el programa imprima la longitud del nombre ingresado (no tener en cuenta los espacios en blanco)."
   ]
  },
  {
   "cell_type": "code",
   "execution_count": 44,
   "metadata": {},
   "outputs": [
    {
     "name": "stdout",
     "output_type": "stream",
     "text": [
      "JUAN PÉREZ\n",
      "juan pérez\n"
     ]
    }
   ],
   "source": [
    "nombre_usuario = input(\"Ingrese su nombre\")\n",
    "\n",
    "print(nombre_usuario.upper())\n",
    "print(nombre_usuario.lower())\n"
   ]
  },
  {
   "cell_type": "code",
   "execution_count": 45,
   "metadata": {},
   "outputs": [
    {
     "name": "stdout",
     "output_type": "stream",
     "text": [
      "9\n"
     ]
    }
   ],
   "source": [
    "print(len(nombre_usuario.replace(\" \", \"\")))"
   ]
  },
  {
   "cell_type": "markdown",
   "metadata": {},
   "source": [
    "### 8. **Diccionarios**\n",
    "\n",
    "   - **Actividad1.1**: Crear un diccionario que contenga los nombres de tres personas como claves y sus edades como valores. El programa debe imprimir la edad de cada persona.\n",
    "   - **Actividad1.2**: Escribir un programa que pregunte al usuario un nombre, luego su edad y los agregue al diccionario."
   ]
  },
  {
   "cell_type": "code",
   "execution_count": 47,
   "metadata": {},
   "outputs": [
    {
     "name": "stdout",
     "output_type": "stream",
     "text": [
      "25\n",
      "34\n",
      "23\n"
     ]
    }
   ],
   "source": [
    "\n",
    "personas = {\"Juan\": 25, \"Pedro\": 34, \"María\": 23}\n",
    "\n",
    "for edad in personas.values(): \n",
    "  print(edad)"
   ]
  },
  {
   "cell_type": "code",
   "execution_count": 53,
   "metadata": {},
   "outputs": [
    {
     "name": "stdout",
     "output_type": "stream",
     "text": [
      "{'Juan': 25, 'Pedro': 34, 'María': 23, 'Luis': 28}\n"
     ]
    }
   ],
   "source": [
    "nombre_usuario = input(\"Ingrese su nombre\")\n",
    "edad_usuario = int(input(\"Ingrese su edad\"))\n",
    "\n",
    "personas[nombre_usuario] = edad_usuario\n",
    "print(personas)"
   ]
  },
  {
   "cell_type": "markdown",
   "metadata": {},
   "source": [
    "### 9. **Números aleatorios**\n",
    "\n",
    "   - **Actividad 1.1**: Escribir un programa que genere 5 números aleatorios entre 1 y 100, lo imprima por consola y diga si es mayor o menor a 50.\n",
    "   - **Actividad 1.2**: Sumar los 5 números generados aleatoriamente y en caso de que el resultado sea mayor a 100, mostrar el valor antes de ser mayor a 100 y cuantos números se sumaron para llegar a dicho valor."
   ]
  },
  {
   "cell_type": "code",
   "execution_count": 103,
   "metadata": {},
   "outputs": [
    {
     "name": "stdout",
     "output_type": "stream",
     "text": [
      "5\n",
      "81\n",
      "81 es mayor que 50\n",
      "3\n",
      "4\n",
      "46\n"
     ]
    }
   ],
   "source": [
    "\n",
    "import random\n",
    "\n",
    "numeros = []\n",
    "\n",
    "for i in range(1,6):\n",
    "  numero_aleatorio = random.randint(1, 100)\n",
    "  print(numero_aleatorio)\n",
    "  if numero_aleatorio >= 50:\n",
    "    print(f\"{numero_aleatorio} es mayor que 50\")\n",
    "  numeros.append(numero_aleatorio)\n"
   ]
  },
  {
   "cell_type": "code",
   "execution_count": 104,
   "metadata": {},
   "outputs": [
    {
     "name": "stdout",
     "output_type": "stream",
     "text": [
      "93\n",
      "Se necesitó sumar 5 números para superar el valor de 100\n"
     ]
    }
   ],
   "source": [
    "suma_aleatorios = 0\n",
    "es_menor_que_100 = True\n",
    "acumulador = 0\n",
    "\n",
    "for numero in numeros:\n",
    "  valor_anterior = suma_aleatorios\n",
    "  suma_aleatorios += numero\n",
    "\n",
    "  if es_menor_que_100: \n",
    "    acumulador += 1\n",
    "    if suma_aleatorios > 100:\n",
    "      es_menor_que_100 = False\n",
    "      print(valor_anterior)\n",
    "\n",
    "\n",
    "print(f\"Se necesitó sumar {acumulador} números para superar el valor de 100\")"
   ]
  },
  {
   "cell_type": "markdown",
   "metadata": {},
   "source": [
    "### 10. **Proyecto Final: Calculadora**\n",
    "\n",
    "   - **Actividad 1.1**: Los estudiantes deben crear una calculadora básica que permita realizar operaciones de suma, resta, multiplicación y división con entradas del usuario. El programa debe pedir al usuario que elija la operación y luego introducir 2 números para realizar el cálculo.\n",
    "   - **Actividad 1.2**: Implementar una opción para que el usuario pueda continuar haciendo cálculos o salir del programa."
   ]
  },
  {
   "cell_type": "code",
   "execution_count": 110,
   "metadata": {},
   "outputs": [
    {
     "name": "stdout",
     "output_type": "stream",
     "text": [
      "El resultado de la suma es: 2\n",
      "El resultado de la resta es: 0\n",
      "Operación no válida\n",
      "El resultado de la division es: 2.0\n"
     ]
    }
   ],
   "source": [
    "\n",
    "continuar = True\n",
    "\n",
    "while continuar: \n",
    "  operacion_elegida = int(input(\"Ingrese la operación que quiere realizar. Presione: 1.Suma, 2.Resta, 3.Multiplicación, 4.División\"))\n",
    "\n",
    "  if operacion_elegida == 1:\n",
    "    valor_1 = int(input(\"Ingrese el primer valor\"))\n",
    "    valor_2 = int(input(\"Ingrese el segundo valor\"))\n",
    "    print(f\"El resultado de la suma es: {valor_1 + valor_2}\")\n",
    "  elif operacion_elegida == 2:\n",
    "    valor_1 = int(input(\"Ingrese el primer valor\"))\n",
    "    valor_2 = int(input(\"Ingrese el segundo valor\"))\n",
    "    print(f\"El resultado de la resta es: {valor_1 - valor_2}\")\n",
    "  elif operacion_elegida == 3:\n",
    "    valor_1 = int(input(\"Ingrese el primer valor\"))\n",
    "    valor_2 = int(input(\"Ingrese el segundo valor\"))\n",
    "    print(f\"El resultado de la multiplicacion es: {valor_1 * valor_2}\")\n",
    "  elif operacion_elegida == 4:\n",
    "    valor_1 = int(input(\"Ingrese el primer valor\"))\n",
    "    valor_2 = int(input(\"Ingrese el segundo valor\"))\n",
    "    print(f\"El resultado de la division es: {valor_1 / valor_2}\")\n",
    "  else: \n",
    "    print(\"Operación no válida\")\n",
    "  \n",
    "  calculadora_activa = input(\"¿Quiere cerrar la calcualdora? Si es así presione 0, de lo contrario presione cualquier tecla\")\n",
    "\n",
    "  if calculadora_activa == \"0\":\n",
    "    continuar = False\n",
    "\n",
    "\n",
    "\n",
    "\n",
    "\n"
   ]
  },
  {
   "cell_type": "markdown",
   "metadata": {},
   "source": [
    "### EXTRA. **Juegos Simples (Adivina el número)**\n",
    "\n",
    "   - **Actividad 1.1**: Escribir un juego donde el programa elija un número aleatorio entre 1 y 100 y el usuario tenga que adivinarlo. El programa debe dar pistas si el número es mayor o menor.\n",
    "   - **Actividad 1.2**: Limitar el número de intentos y mostrar un mensaje de éxito o fracaso al final."
   ]
  }
 ],
 "metadata": {
  "kernelspec": {
   "display_name": "Python 3",
   "language": "python",
   "name": "python3"
  },
  "language_info": {
   "codemirror_mode": {
    "name": "ipython",
    "version": 3
   },
   "file_extension": ".py",
   "mimetype": "text/x-python",
   "name": "python",
   "nbconvert_exporter": "python",
   "pygments_lexer": "ipython3",
   "version": "3.13.2"
  }
 },
 "nbformat": 4,
 "nbformat_minor": 2
}
