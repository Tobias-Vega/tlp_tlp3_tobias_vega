{
 "cells": [
  {
   "cell_type": "markdown",
   "metadata": {},
   "source": [
    "# Criterios de evaluación.\n",
    "\n",
    "* Se deben utilizar nombres de variables descriptivos y claros (Utilizar la nomeclatura correspondiente para los nombres de variables).\n",
    "* Comentarios claros y concisos que expliquen el propósito de cada sección del código.\n",
    "* Entrega en tiempo y forma.\n",
    "* Todo el código desarrollado debe ser subido a un repositorio en GitHub (el nombre del repositorio de seguir la siguiente estructura: tp1_tlp3_nombre_apellido).\n",
    "\n",
    "\n",
    "**Aclaración: Para resolver las actividades se debe incertar casillas de codigo entre cada actividad del cuaderno de Jupyter**"
   ]
  },
  {
   "cell_type": "markdown",
   "metadata": {},
   "source": [
    "### 1. **Hola Mundo y Variables**\n",
    "\n",
    "   - **Actividad 1.1**: Deben escribir un programa que imprima \"¡Hola, Mundo!\" en la consola.\n",
    "   - **Actividad 1.2**: Deben crear una variable llamada `nombre` y hacer que el programa imprima un saludo personalizado: `Hola, <nombre>!`"
   ]
  },
  {
   "cell_type": "code",
   "execution_count": 1,
   "metadata": {},
   "outputs": [
    {
     "name": "stdout",
     "output_type": "stream",
     "text": [
      "¡Hola mundo!\n"
     ]
    }
   ],
   "source": [
    "print(\"¡Hola mundo!\")\n",
    "\n",
    "## Imprime Hola mundo en la consola"
   ]
  },
  {
   "cell_type": "code",
   "execution_count": 2,
   "metadata": {},
   "outputs": [
    {
     "name": "stdout",
     "output_type": "stream",
     "text": [
      "Hola Luis\n"
     ]
    }
   ],
   "source": [
    "nombre = \"Luis\"\n",
    "print (f\"Hola {nombre}\")\n",
    "\n",
    "## Imprime el nombre en la consola"
   ]
  },
  {
   "cell_type": "markdown",
   "metadata": {},
   "source": [
    "### 2. **Operaciones Matemáticas Básicas**\n",
    "\n",
    "   - **Actividad 1.1**: Crear un programa que pida al usuario dos números y realice las cuatro operaciones matemáticas básicas (suma, resta, multiplicación y división), imprimiendo los resultados.\n",
    "   - **Actividad 1.2**: Hacer que el programa calcule el promedio de los dos números."
   ]
  },
  {
   "cell_type": "code",
   "execution_count": 3,
   "metadata": {},
   "outputs": [
    {
     "name": "stdout",
     "output_type": "stream",
     "text": [
      "7.0\n",
      "-1.0\n",
      "12.0\n",
      "0.75\n"
     ]
    }
   ],
   "source": [
    "num1 = float(input(\"Ingrese el primer número\"))\n",
    "num2 = float(input(\"Ingrese el segundo número\"))\n",
    "\n",
    "suma = num1 + num2\n",
    "resta = num1 - num2\n",
    "multiplicacion = num1 * num2\n",
    "division = num1 / num2\n",
    "\n",
    "print(suma)\n",
    "print(resta)\n",
    "print(multiplicacion)\n",
    "print(division)\n",
    "\n",
    "## Operacionnes aritméticas por medio de 2 números"
   ]
  },
  {
   "cell_type": "code",
   "execution_count": 4,
   "metadata": {},
   "outputs": [
    {
     "name": "stdout",
     "output_type": "stream",
     "text": [
      "3.5\n"
     ]
    }
   ],
   "source": [
    "promedio = suma / 2\n",
    "print(promedio)\n",
    "\n",
    "## Promedio de los números ingresados"
   ]
  },
  {
   "cell_type": "markdown",
   "metadata": {},
   "source": [
    "### 3. **Condicionales (if-else)**\n",
    "\n",
    "   - **Actividad 1.1**: Escribir un programa que pida al usuario su edad y le diga si es mayor de edad (18 años o más).\n",
    "   - **Actividad 1.2**: Agregar un mensaje diferente para diferentes rangos de edad, como por ejemplo, si es un niño, adolescente o adulto."
   ]
  },
  {
   "cell_type": "code",
   "execution_count": 10,
   "metadata": {},
   "outputs": [
    {
     "name": "stdout",
     "output_type": "stream",
     "text": [
      "Usted es menor de edad\n"
     ]
    }
   ],
   "source": [
    "edad_usuario = int(input(\"Ingrese su edad\"))\n",
    "\n",
    "if edad_usuario >= 18:\n",
    "  print(\"Usted es mayor de edad\")\n",
    "else: \n",
    "  print(\"Usted es menor de edad\")\n",
    "\n",
    "## Validación de edad con un mensaje"
   ]
  },
  {
   "cell_type": "code",
   "execution_count": 11,
   "metadata": {},
   "outputs": [
    {
     "name": "stdout",
     "output_type": "stream",
     "text": [
      "Usted es un niño\n"
     ]
    }
   ],
   "source": [
    "if edad_usuario >= 18:\n",
    "  print(\"Usted es un adulto\")\n",
    "elif edad_usuario >= 13:\n",
    "  print(\"Usted es un adolescente\")\n",
    "else:\n",
    "  print(\"Usted es un niño\")\n",
    "\n",
    "## Validación de rangos de edad"
   ]
  },
  {
   "cell_type": "markdown",
   "metadata": {},
   "source": [
    "### 4. **Ciclos (while, for)**\n",
    "\n",
    "   - **Actividad 1.1**: Escribir un programa que imprima los números del 1 al 10 usando un bucle `for`.\n",
    "   - **Actividad 1.2**: Usar un bucle `while` para imprimir los números del 1 al 10, e imprimir solo aquellos números que sean divisibles por 2."
   ]
  },
  {
   "cell_type": "code",
   "execution_count": 12,
   "metadata": {},
   "outputs": [
    {
     "name": "stdout",
     "output_type": "stream",
     "text": [
      "1\n",
      "2\n",
      "3\n",
      "4\n",
      "5\n",
      "6\n",
      "7\n",
      "8\n",
      "9\n",
      "10\n"
     ]
    }
   ],
   "source": [
    "\n",
    "for i in range(1, 11):\n",
    "  print(i)\n",
    "\n",
    "  ## Imprime números del 1 al 10"
   ]
  },
  {
   "cell_type": "code",
   "execution_count": 15,
   "metadata": {},
   "outputs": [
    {
     "name": "stdout",
     "output_type": "stream",
     "text": [
      "2\n",
      "4\n",
      "6\n",
      "8\n",
      "10\n"
     ]
    }
   ],
   "source": [
    "contador = 0\n",
    "\n",
    "while contador <= 10:\n",
    "  contador += 1\n",
    "  if contador % 2 == 0:\n",
    "    print(contador)\n",
    "\n",
    "## Imprime solo los divisibles por 2\n"
   ]
  },
  {
   "cell_type": "markdown",
   "metadata": {},
   "source": [
    "### 5. **Listas y Bucles**\n",
    "\n",
    "   - **Actividad 1.1**: Crear una lista con 5 números y escribir un programa que imprima cada número de la lista usando un bucle `for`.\n",
    "   - **Actividad 1.2**: Usar un bucle para calcular la suma de los números de la lista."
   ]
  },
  {
   "cell_type": "code",
   "execution_count": 16,
   "metadata": {},
   "outputs": [
    {
     "name": "stdout",
     "output_type": "stream",
     "text": [
      "2\n",
      "4\n",
      "6\n",
      "8\n",
      "10\n"
     ]
    }
   ],
   "source": [
    "numeros_pares = [2, 4, 6, 8, 10]\n",
    "\n",
    "for numero in numeros_pares: \n",
    "  print(numero)\n",
    "\n",
    "## Imprime la lista de números de forma individual"
   ]
  },
  {
   "cell_type": "code",
   "execution_count": 17,
   "metadata": {},
   "outputs": [
    {
     "name": "stdout",
     "output_type": "stream",
     "text": [
      "30\n"
     ]
    }
   ],
   "source": [
    "suma_numeros = 0\n",
    "for numero in numeros_pares:\n",
    "  suma_numeros += numero\n",
    "\n",
    "print(suma_numeros)\n",
    "\n",
    "## Suma de los números en la lista"
   ]
  },
  {
   "cell_type": "markdown",
   "metadata": {},
   "source": [
    "### 6. **Funciones**\n",
    "\n",
    "   - **Actividad 1.1**: Escribir una función llamada `saludo` que reciba un nombre como parámetro y devuelva un saludo personalizado.\n",
    "   - **Actividad 1.2**: Crear una función que reciba dos números y devuelva su suma, resta, multiplicación y división."
   ]
  },
  {
   "cell_type": "code",
   "execution_count": 18,
   "metadata": {},
   "outputs": [
    {
     "data": {
      "text/plain": [
       "'Hola José'"
      ]
     },
     "execution_count": 18,
     "metadata": {},
     "output_type": "execute_result"
    }
   ],
   "source": [
    "def saludar(nombre): \n",
    "  return f\"Hola {nombre}\"\n",
    "\n",
    "saludar(\"José\")\n",
    "\n",
    "## Devuelve un saludo personalizado"
   ]
  },
  {
   "cell_type": "code",
   "execution_count": 19,
   "metadata": {},
   "outputs": [
    {
     "name": "stdout",
     "output_type": "stream",
     "text": [
      "16\n",
      "8\n",
      "48\n",
      "3.0\n"
     ]
    }
   ],
   "source": [
    "def calcular(valor1, valor2):\n",
    "  print(valor1 + valor2)\n",
    "  print(valor1 - valor2)\n",
    "  print(valor1 * valor2)\n",
    "  print(valor1 / valor2)\n",
    "\n",
    "calcular(12,4)\n",
    "\n",
    "## Una función que calcula operaciones aritméticas en base a dos números"
   ]
  },
  {
   "cell_type": "markdown",
   "metadata": {},
   "source": [
    "### 7. **Manejo de cadenas de texto**\n",
    "\n",
    "   - **Actividad 1.1**: Escribir un programa que pida al usuario su nombre y lo imprima en mayúsculas y en minúsculas.\n",
    "   - **Actividad 1.2**: Hacer que el programa imprima la longitud del nombre ingresado (no tener en cuenta los espacios en blanco)."
   ]
  },
  {
   "cell_type": "code",
   "execution_count": 21,
   "metadata": {},
   "outputs": [
    {
     "name": "stdout",
     "output_type": "stream",
     "text": [
      "JUAN PEREZ\n",
      "juan perez\n"
     ]
    }
   ],
   "source": [
    "nombre_usuario = input(\"Ingrese su nombre\")\n",
    "\n",
    "print(nombre_usuario.upper())\n",
    "print(nombre_usuario.lower())\n",
    "\n",
    "## Transformación en mayusculas y minusculas del nombre del ususario"
   ]
  },
  {
   "cell_type": "code",
   "execution_count": 22,
   "metadata": {},
   "outputs": [
    {
     "name": "stdout",
     "output_type": "stream",
     "text": [
      "9\n"
     ]
    }
   ],
   "source": [
    "print(len(nombre_usuario.replace(\" \", \"\")))\n",
    "## Imprime la longitud del nombre del usuario sin tener en cuenta los espacios en blanco"
   ]
  },
  {
   "cell_type": "markdown",
   "metadata": {},
   "source": [
    "### 8. **Diccionarios**\n",
    "\n",
    "   - **Actividad1.1**: Crear un diccionario que contenga los nombres de tres personas como claves y sus edades como valores. El programa debe imprimir la edad de cada persona.\n",
    "   - **Actividad1.2**: Escribir un programa que pregunte al usuario un nombre, luego su edad y los agregue al diccionario."
   ]
  },
  {
   "cell_type": "code",
   "execution_count": 23,
   "metadata": {},
   "outputs": [
    {
     "name": "stdout",
     "output_type": "stream",
     "text": [
      "25\n",
      "34\n",
      "23\n"
     ]
    }
   ],
   "source": [
    "\n",
    "personas = {\"Juan\": 25, \"Pedro\": 34, \"María\": 23}\n",
    "\n",
    "for edad in personas.values(): \n",
    "  print(edad)\n",
    "\n",
    "## Imprime la edad de cada persona"
   ]
  },
  {
   "cell_type": "code",
   "execution_count": 25,
   "metadata": {},
   "outputs": [
    {
     "name": "stdout",
     "output_type": "stream",
     "text": [
      "{'Juan': 25, 'Pedro': 34, 'María': 23, 'Luis': 23}\n"
     ]
    }
   ],
   "source": [
    "nombre_usuario = input(\"Ingrese su nombre\")\n",
    "edad_usuario = int(input(\"Ingrese su edad\"))\n",
    "\n",
    "personas[nombre_usuario] = edad_usuario\n",
    "print(personas)\n",
    "\n",
    "## Agrega otro usuario al diccionario según lo que haya ingresado el usuario"
   ]
  },
  {
   "cell_type": "markdown",
   "metadata": {},
   "source": [
    "### 9. **Números aleatorios**\n",
    "\n",
    "   - **Actividad 1.1**: Escribir un programa que genere 5 números aleatorios entre 1 y 100, lo imprima por consola y diga si es mayor o menor a 50.\n",
    "   - **Actividad 1.2**: Sumar los 5 números generados aleatoriamente y en caso de que el resultado sea mayor a 100, mostrar el valor antes de ser mayor a 100 y cuantos números se sumaron para llegar a dicho valor."
   ]
  },
  {
   "cell_type": "code",
   "execution_count": null,
   "metadata": {},
   "outputs": [
    {
     "name": "stdout",
     "output_type": "stream",
     "text": [
      "52\n",
      "52 es mayor que 50\n",
      "51\n",
      "51 es mayor que 50\n",
      "64\n",
      "64 es mayor que 50\n",
      "100\n",
      "100 es mayor que 50\n",
      "5\n"
     ]
    }
   ],
   "source": [
    "import random\n",
    "\n",
    "numeros = []\n",
    "\n",
    "for i in range(1,6):\n",
    "  numero_aleatorio = random.randint(1, 100)\n",
    "  print(numero_aleatorio)\n",
    "  if numero_aleatorio >= 50:\n",
    "    print(f\"{numero_aleatorio} es mayor que 50\")\n",
    "  numeros.append(numero_aleatorio)\n",
    "\n",
    "  ## Generación de 5 números random entre 1 y 100 que se imprimirán en consola si son mayores o menores a 50\n"
   ]
  },
  {
   "cell_type": "code",
   "execution_count": null,
   "metadata": {},
   "outputs": [
    {
     "name": "stdout",
     "output_type": "stream",
     "text": [
      "Valor previo del 100:  80\n",
      "Se necesitó sumar 3 números para superar el valor de 100\n",
      "Suma total:  211\n"
     ]
    }
   ],
   "source": [
    "suma_aleatorios = 0\n",
    "es_menor_que_100 = True\n",
    "acumulador = 0\n",
    "\n",
    "for numero in numeros:\n",
    "  valor_anterior = suma_aleatorios\n",
    "  suma_aleatorios += numero\n",
    "\n",
    "  if es_menor_que_100: \n",
    "    acumulador += 1\n",
    "    if suma_aleatorios > 100:\n",
    "      es_menor_que_100 = False\n",
    "      print(\"Valor previo del 100: \", valor_anterior)\n",
    "\n",
    "\n",
    "print(f\"Se necesitó sumar {acumulador} números para superar el valor de 100\")\n",
    "print(f\"Suma total: \", suma_aleatorios)\n",
    "\n",
    "## Suma de los números generados, su valor previo antes de llegar a 100 y la cantidad que se necesitó para superar dicho valorr"
   ]
  },
  {
   "cell_type": "markdown",
   "metadata": {},
   "source": [
    "### 10. **Proyecto Final: Calculadora**\n",
    "\n",
    "   - **Actividad 1.1**: Los estudiantes deben crear una calculadora básica que permita realizar operaciones de suma, resta, multiplicación y división con entradas del usuario. El programa debe pedir al usuario que elija la operación y luego introducir 2 números para realizar el cálculo.\n",
    "   - **Actividad 1.2**: Implementar una opción para que el usuario pueda continuar haciendo cálculos o salir del programa."
   ]
  },
  {
   "cell_type": "code",
   "execution_count": null,
   "metadata": {},
   "outputs": [
    {
     "name": "stdout",
     "output_type": "stream",
     "text": [
      "El resultado de la suma es: 4\n",
      "El resultado de la resta es: 0\n",
      "El resultado de la multiplicacion es: 4\n",
      "El resultado de la division es: 1.0\n"
     ]
    }
   ],
   "source": [
    "continuar = True\n",
    "\n",
    "while continuar: \n",
    "  operacion_elegida = int(input(\"Ingrese la operación que quiere realizar. Presione: 1.Suma, 2.Resta, 3.Multiplicación, 4.División\"))\n",
    "\n",
    "  if operacion_elegida == 1:\n",
    "    valor_1 = int(input(\"Ingrese el primer valor\"))\n",
    "    valor_2 = int(input(\"Ingrese el segundo valor\"))\n",
    "    print(f\"El resultado de la suma es: {valor_1 + valor_2}\")\n",
    "  elif operacion_elegida == 2:\n",
    "    valor_1 = int(input(\"Ingrese el primer valor\"))\n",
    "    valor_2 = int(input(\"Ingrese el segundo valor\"))\n",
    "    print(f\"El resultado de la resta es: {valor_1 - valor_2}\")\n",
    "  elif operacion_elegida == 3:\n",
    "    valor_1 = int(input(\"Ingrese el primer valor\"))\n",
    "    valor_2 = int(input(\"Ingrese el segundo valor\"))\n",
    "    print(f\"El resultado de la multiplicacion es: {valor_1 * valor_2}\")\n",
    "  elif operacion_elegida == 4:\n",
    "    valor_1 = int(input(\"Ingrese el primer valor\"))\n",
    "    valor_2 = int(input(\"Ingrese el segundo valor\"))\n",
    "    print(f\"El resultado de la division es: {valor_1 / valor_2}\")\n",
    "  else: \n",
    "    print(\"Operación no válida\")\n",
    "  \n",
    "  calculadora_activa = input(\"¿Quiere cerrar la calcualdora? Si es así presione 0, de lo contrario presione cualquier tecla\")\n",
    "\n",
    "  if calculadora_activa == \"0\":\n",
    "    continuar = False\n",
    "\n",
    "## Simulación de una calculadora que realiza operaciones aritméticas con los valores proporcionados por el usuario con una opción de seguir usandola en caso de que este ultimo lo desee."
   ]
  },
  {
   "cell_type": "markdown",
   "metadata": {},
   "source": [
    "### EXTRA. **Juegos Simples (Adivina el número)**\n",
    "\n",
    "   - **Actividad 1.1**: Escribir un juego donde el programa elija un número aleatorio entre 1 y 100 y el usuario tenga que adivinarlo. El programa debe dar pistas si el número es mayor o menor.\n",
    "   - **Actividad 1.2**: Limitar el número de intentos y mostrar un mensaje de éxito o fracaso al final."
   ]
  },
  {
   "cell_type": "code",
   "execution_count": 9,
   "metadata": {},
   "outputs": [
    {
     "name": "stdout",
     "output_type": "stream",
     "text": [
      "El número a adivinar es menor\n",
      "vidas actuales: 4\n",
      "El número a adivinar es menor\n",
      "vidas actuales: 3\n",
      "Felicidades, adivinaste el número 15\n"
     ]
    }
   ],
   "source": [
    "import random\n",
    "juego_finalizado = True\n",
    "\n",
    "numero_random = random.randint(1, 100)\n",
    "vidas_jugador = 5\n",
    "\n",
    "def juego():\n",
    "  return int(input(\"Ingrese un número del 1 al 100\"))\n",
    "\n",
    "def restar_vida(vidas):\n",
    "  vidas -= 1\n",
    "  print(f\"vidas actuales: {vidas}\")\n",
    "  return vidas\n",
    "\n",
    "\n",
    "while juego_finalizado: \n",
    "  eleccion_usuario = juego()\n",
    "  if eleccion_usuario < 1 or eleccion_usuario > 100:\n",
    "    print(\"El número a ingresar debe ser entre 1 a 100\")\n",
    "    vidas_jugador = restar_vida(vidas_jugador)\n",
    "  elif eleccion_usuario == numero_random:\n",
    "    print(f\"Felicidades, adivinaste el número {numero_random}\")\n",
    "    juego_finalizado = False\n",
    "  elif eleccion_usuario > numero_random:\n",
    "    print(\"El número a adivinar es menor\")\n",
    "    vidas_jugador = restar_vida(vidas_jugador)\n",
    "  elif eleccion_usuario < numero_random:\n",
    "    print(\"El número a adivinar es mayor\")\n",
    "    vidas_jugador = restar_vida(vidas_jugador)\n",
    "  if vidas_jugador == 0:\n",
    "    juego_finalizado = False\n",
    "    print(f\"Mala suerte, no has adivinado el número, era el número {numero_random}\")\n",
    "\n",
    "## Juego que consiste en adivinar un número del 1 al 100 con pistas si se acerca o no agregando un sistema de vidas en caso de que no se consiga adivinarlo."
   ]
  }
 ],
 "metadata": {
  "kernelspec": {
   "display_name": "Python 3",
   "language": "python",
   "name": "python3"
  },
  "language_info": {
   "codemirror_mode": {
    "name": "ipython",
    "version": 3
   },
   "file_extension": ".py",
   "mimetype": "text/x-python",
   "name": "python",
   "nbconvert_exporter": "python",
   "pygments_lexer": "ipython3",
   "version": "3.13.2"
  }
 },
 "nbformat": 4,
 "nbformat_minor": 2
}
